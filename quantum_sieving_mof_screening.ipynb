{
  "cells": [
    {
      "cell_type": "markdown",
      "metadata": {},
      "source": [
        "# Quantum Sieving Potential of MOFs: A Simple Machine Learning Approach"
      ]
    },
    {
      "cell_type": "markdown",
      "metadata": {},
      "source": [
        "In this notebook, we'll use simple machine learning models to assess the potential of Metal-Organic Frameworks (MOFs) for Quantum Sieving. We'll focus on their ability to selectively diffuse hydrogen particles at different rates via quantum effects (De Broglie Wavelength Correlation)."
      ]
    },
    {
      "cell_type": "markdown",
      "metadata": {},
      "source": [
        "## 1. Import Libraries\n",
        "\n",
        "First, let's import the necessary libraries:"
      ]
    },
    {
      "cell_type": "code",
      "execution_count": 1,
      "metadata": {
        "collapsed": false
      },
      "outputs": [],
      "source": [
        "import pandas as pd\n",
        "from sklearn.model_selection import train_test_split\n",
        "\n",
        "\n"
      ]
    },
    {
      "cell_type": "markdown",
      "metadata": {},
      "source": [
        "## 2. Load and Prepare Data\n",
        "\n",
        "We'll use a MOF dataset provided by Northwestern Tech:"
      ]
    },
    {
      "cell_type": "code",
      "execution_count": 2,
      "metadata": {},
      "outputs": [],
      "source": [
        "# Read the MOF dataset\n",
        "data = pd.read_csv('mofdb.csv')\n",
        "\n",
        "# Define target based on literature insights\n",
        "data['Target'] = 0.5 * data['uptake_vol [g H2/L]'] + 0.5 * (1 / data['pore_volume [cm³/g]'])\n",
        "data['Target'] *= 2  # Scale for better interpretability\n"
      ]
    },
    {
      "cell_type": "markdown",
      "metadata": {},
      "source": [
        "Note: Smaller pore radius leads to faster and more selective diffusion of heavier hydrogen isotopes. This counterintuitive behavior is explained by quantum tunneling effects when the pore size becomes comparable to the de Broglie wavelength of the particles."
      ]
    },
    {
      "cell_type": "markdown",
      "metadata": {},
      "source": [
        "## 3. Feature Engineering\n",
        "\n",
        "Select relevant features and normalize them:"
      ]
    },
    {
      "cell_type": "code",
      "execution_count": 3,
      "metadata": {},
      "outputs": [
        {
          "name": "stderr",
          "output_type": "stream",
          "text": [
            "C:\\Users\\izzye\\AppData\\Local\\Temp\\ipykernel_24304\\2326860763.py:13: SettingWithCopyWarning: \n",
            "A value is trying to be set on a copy of a slice from a DataFrame.\n",
            "Try using .loc[row_indexer,col_indexer] = value instead\n",
            "\n",
            "See the caveats in the documentation: https://pandas.pydata.org/pandas-docs/stable/user_guide/indexing.html#returning-a-view-versus-a-copy\n",
            "  svm_data[column] = (svm_data[column] - svm_data[column].min()) / (svm_data[column].max() - svm_data[column].min())\n"
          ]
        }
      ],
      "source": [
        "column_names = [\n",
        "    \"asa_grav [m²/g]\", \"asa_vol [m²/cm³]\", \"av_vf\", \"pore_volume [cm³/g]\",\n",
        "    \"density [g/cm³]\", \"nexc [wt. %]\", \"uptake_grav [wt. %]\", \"uptake_vol [g H2/L]\",\n",
        "    \"lcd [Å]\", \"pld [Å]\", \"LFPD [Å]\", \"cell_length_a\", \"cell_length_b\", \"cell_length_c\",\n",
        "    \"cell_angle_alpha\", \"cell_angle_beta\", \"cell_angle_gamma\", \"cell_volume [Å³]\", \"Target\"\n",
        "]\n",
        "\n",
        "svm_data = data[column_names]\n",
        "\n",
        "# Normalize features\n",
        "for column in column_names:\n",
        "    if column != \"Target\":\n",
        "        svm_data[column] = (svm_data[column] - svm_data[column].min()) / (svm_data[column].max() - svm_data[column].min())"
      ]
    },
    {
      "cell_type": "markdown",
      "metadata": {},
      "source": [
        "## 4. Prepare Features and Target\n",
        "\n",
        "Split the data into features and target:"
      ]
    },
    {
      "cell_type": "code",
      "execution_count": 4,
      "metadata": {},
      "outputs": [],
      "source": [
        "features = [col for col in column_names if col != \"Target\"]\n",
        "\n",
        "svm_data = svm_data.dropna()\n",
        "X = svm_data[features]\n",
        "y = svm_data['Target']"
      ]
    },
    {
      "cell_type": "markdown",
      "metadata": {},
      "source": [
        "## 5. Train-Test Split\n",
        "\n",
        "Split the data into training and testing sets:"
      ]
    },
    {
      "cell_type": "code",
      "execution_count": 5,
      "metadata": {
        "collapsed": false
      },
      "outputs": [],
      "source": [
        "X_train, X_test, y_train, y_test = train_test_split(X, y, test_size=0.2, random_state=42)"
      ]
    },
    {
      "cell_type": "markdown",
      "metadata": {},
      "source": [
        "## 6. Linear Regression Model\n",
        "\n",
        "We'll use a simple linear regression model to predict the potential of MOFs for separating hydrogen isotopes: "
      ]
    },
    {
      "cell_type": "code",
      "execution_count": 6,
      "metadata": {},
      "outputs": [
        {
          "name": "stdout",
          "output_type": "stream",
          "text": [
            "Mean Squared Error: 0.0020\n"
          ]
        }
      ],
      "source": [
        "from sklearn.linear_model import LinearRegression\n",
        "from sklearn.metrics import mean_squared_error\n",
        "\n",
        "model = LinearRegression()\n",
        "model.fit(X_train, y_train)\n",
        "\n",
        "y_pred = model.predict(X_test)\n",
        "mse = mean_squared_error(y_test, y_pred)\n",
        "print(f\"Mean Squared Error: {mse:.4f}\")"
      ]
    },
    {
      "cell_type": "markdown",
      "metadata": {},
      "source": [
        "## 7. Results and Interpretation\n",
        "\n",
        "A low Mean Squared Error of indicates that our model is reasonably accurate at determining potential MOF candidates for quantum sieving."
      ]
    },
    {
      "cell_type": "markdown",
      "metadata": {},
      "source": [
        "## Conclusion\n",
        "This simple linear regression model provides a quick and efficient way to screen MOFs for their potential in separating hydrogen isotopes. While not a substitute for more advanced methods like Monte Carlo simulations or VQE (for smaller molecules), it serves as an initial filter to identify promising candidates for further investigation.\n",
        "\n",
        "It's important to note that this approach serves as a proof-of-concept and should not be considered a rigorous scientific method.\n",
        "\n",
        "## References\n",
        "\n",
        "N. S. Bobbitt et al., \"MOFX-DB: An online database of computational adsorption data for nanoporous materials,\" Journal of Chemical & Engineering Data, vol. 68, no. 2, pp. 483–498, Jan. 2023, doi: 10.1021/acs.jced.2c00583.\n",
        "\n",
        "H. Oh and M. Hirscher, \"Quantum sieving for separation of hydrogen isotopes using MOFs,\" European Journal of Inorganic Chemistry, vol. 2016, no. 27, pp. 4278–4289, Jun. 2016, doi: 10.1002/ejic.201600253."
      ]
    }
  ],
  "metadata": {
    "kernelspec": {
      "display_name": "Python 3",
      "language": "python",
      "name": "python3"
    },
    "language_info": {
      "codemirror_mode": {
        "name": "ipython",
        "version": 3
      },
      "file_extension": ".py",
      "mimetype": "text/x-python",
      "name": "python",
      "nbconvert_exporter": "python",
      "pygments_lexer": "ipython3",
      "version": "3.10.9"
    }
  },
  "nbformat": 4,
  "nbformat_minor": 0
}
